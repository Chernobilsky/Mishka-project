{
 "cells": [
  {
   "cell_type": "markdown",
   "id": "3b60d6be",
   "metadata": {
    "toc": true
   },
   "source": [
    "<h1>Table of Contents<span class=\"tocSkip\"></span></h1>\n",
    "<div class=\"toc\"><ul class=\"toc-item\"><li><span><a href=\"#Урок-1.-Линейная-алгебра.-Создание-матрицы.-Общие-понятия.\" data-toc-modified-id=\"Урок-1.-Линейная-алгебра.-Создание-матрицы.-Общие-понятия.-1\"><span class=\"toc-item-num\">1&nbsp;&nbsp;</span>Урок 1. Линейная алгебра. Создание матрицы. Общие понятия.</a></span></li></ul></div>"
   ]
  },
  {
   "cell_type": "markdown",
   "id": "9f6cd8bc",
   "metadata": {},
   "source": [
    "Здесь будет урок ***линейной алгебры на Питоне.***\n",
    "В соответсвии с курсом на Devpractice"
   ]
  },
  {
   "cell_type": "markdown",
   "id": "f97cd1b4",
   "metadata": {},
   "source": [
    "# Урок 1. Линейная алгебра. Создание матрицы. Общие понятия.\n",
    "Материал вот отсюда [Первая глава из учебника по линейной алгебре](https://devpractice.ru/python-linalg-lesson1-create-matrix/)"
   ]
  },
  {
   "cell_type": "code",
   "execution_count": 1,
   "id": "886cccd9",
   "metadata": {},
   "outputs": [],
   "source": [
    "import numpy as np"
   ]
  },
  {
   "cell_type": "code",
   "execution_count": 4,
   "id": "8e1e83a9",
   "metadata": {},
   "outputs": [
    {
     "name": "stdout",
     "output_type": "stream",
     "text": [
      "[1 2]\n"
     ]
    }
   ],
   "source": [
    "# задаем вектор-строку\n",
    "v_hor_np = np.array([1, 2])\n",
    "print(v_hor_np )"
   ]
  },
  {
   "attachments": {
    "image.png": {
     "image/png": "[encoded data removed]"
    }
   },
   "cell_type": "markdown",
   "id": "289513b5",
   "metadata": {},
   "source": [
    "![image.png](attachment:image.png)"
   ]
  },
  {
   "cell_type": "code",
   "execution_count": 6,
   "id": "056eea0c",
   "metadata": {},
   "outputs": [
    {
     "name": "stdout",
     "output_type": "stream",
     "text": [
      "нулевая вектор строка -  [0. 0. 0. 0. 0.]\n",
      "единичная вектор-строка -  [1. 1. 1. 1. 1.]\n"
     ]
    }
   ],
   "source": [
    "# Есть специальные функции для задавания нулевых вектор-строк\n",
    "v_hor_zeros_v1 = np.zeros((5,))\n",
    "print('нулевая вектор строка - ', v_hor_zeros_v1 )\n",
    "\n",
    "# и единичных венктор-строк\n",
    "v_hor_one_v1 = np.ones((5,))\n",
    "print('единичная вектор-строка - ', v_hor_one_v1)"
   ]
  },
  {
   "cell_type": "code",
   "execution_count": 12,
   "id": "f1fd0e46",
   "metadata": {},
   "outputs": [
    {
     "name": "stdout",
     "output_type": "stream",
     "text": [
      "Это не вектор-cтрока, а массив размера 1xn [[1. 1. 1. 1. 1.]]\n"
     ]
    }
   ],
   "source": [
    "# Если нам нужна не вектор-cтрока, а массив размера 1xn, задаем вот так:\n",
    "v_hor_one_v2 = np.ones((1, 5))\n",
    "print(\"Это не вектор-cтрока, а массив размера 1xn\", v_hor_one_v2)"
   ]
  },
  {
   "cell_type": "code",
   "execution_count": 13,
   "id": "a11b3038",
   "metadata": {},
   "outputs": [
    {
     "name": "stdout",
     "output_type": "stream",
     "text": [
      "[[1]\n",
      " [2]]\n"
     ]
    }
   ],
   "source": [
    "# А это вектонр-стобец\n",
    "v_vert_np = np.array([[1], [2]])\n",
    "print(v_vert_np)"
   ]
  },
  {
   "cell_type": "code",
   "execution_count": 14,
   "id": "bc42384b",
   "metadata": {},
   "outputs": [
    {
     "name": "stdout",
     "output_type": "stream",
     "text": [
      "Нулевой вектор-столбец [[0.]\n",
      " [0.]\n",
      " [0.]\n",
      " [0.]\n",
      " [0.]]\n",
      "Единичный вектор-столбец [[1.]\n",
      " [1.]\n",
      " [1.]\n",
      " [1.]\n",
      " [1.]]\n"
     ]
    }
   ],
   "source": [
    "v_vert_zeros = np.zeros((5, 1))\n",
    "print('Нулевой вектор-столбец', v_vert_zeros)\n",
    "v_vert_ones = np.ones((5, 1))\n",
    "print('Единичный вектор-столбец',v_vert_ones)"
   ]
  },
  {
   "cell_type": "markdown",
   "id": "71afe768",
   "metadata": {},
   "source": [
    "Матрица создается методом `np.array()`, аргументом которой является список списков. Можно использовать и `np.matrix()`, *(см. ниже)*, но `np.array` предпочтительнее, потому что `np.matrix` может быть позже выведена из обращения.\n",
    "\n",
    "[Обсуждение np.array и np.matrix с ChatGPT](https://chat.openai.com/share/1df3e21c-4892-46cb-8ee6-e8aa5bf55155)"
   ]
  },
  {
   "cell_type": "code",
   "execution_count": 15,
   "id": "7bdfb6aa",
   "metadata": {},
   "outputs": [
    {
     "name": "stdout",
     "output_type": "stream",
     "text": [
      "А вот это матрица [[1 2 3]\n",
      " [4 5 6]\n",
      " [7 8 9]]\n"
     ]
    }
   ],
   "source": [
    "m_sqr = [[1, 2, 3], [4, 5, 6], [7, 8, 9]]\n",
    "m_sqr_arr = np.array(m_sqr)\n",
    "print('А вот это матрица', m_sqr_arr)"
   ]
  },
  {
   "cell_type": "code",
   "execution_count": 17,
   "id": "eb2fe19c",
   "metadata": {},
   "outputs": [
    {
     "name": "stdout",
     "output_type": "stream",
     "text": [
      "Тоже способ создать матрицу [[1 2 3]\n",
      " [4 5 6]\n",
      " [7 8 9]]\n"
     ]
    }
   ],
   "source": [
    "m_sqr_mx = np.matrix([[1, 2, 3], [4, 5, 6], [7, 8, 9]])\n",
    "print('Тоже способ создать матрицу',m_sqr_mx)"
   ]
  },
  {
   "cell_type": "code",
   "execution_count": 20,
   "id": "1fd6b72b",
   "metadata": {},
   "outputs": [
    {
     "name": "stdout",
     "output_type": "stream",
     "text": [
      "[[1 2 3]\n",
      " [4 5 6]\n",
      " [7 8 9]]\n"
     ]
    }
   ],
   "source": [
    "print(np.array([[1, 2, 3], [4, 5, 6], [7, 8, 9]]))"
   ]
  },
  {
   "cell_type": "code",
   "execution_count": 21,
   "id": "a53c0131",
   "metadata": {},
   "outputs": [
    {
     "name": "stdout",
     "output_type": "stream",
     "text": [
      "[[1 2 3]\n",
      " [4 5 6]\n",
      " [7 8 9]]\n"
     ]
    }
   ],
   "source": [
    "# np.matrix позволяет проще записывать создание матриц\n",
    "m_sqr_mx = np.matrix('1 2 3; 4 5 6; 7 8 9')\n",
    "print(m_sqr_mx)"
   ]
  },
  {
   "cell_type": "code",
   "execution_count": 28,
   "id": "0196ccd3",
   "metadata": {},
   "outputs": [
    {
     "data": {
      "text/plain": [
       "matrix([[ 2,  4,  6],\n",
       "        [ 8, 10, 12],\n",
       "        [14, 16, 18]])"
      ]
     },
     "execution_count": 28,
     "metadata": {},
     "output_type": "execute_result"
    }
   ],
   "source": [
    "# пока класс np.matrix есть , его экземпляры можно складывать с экземплярами класса np.array\n",
    "np.matrix([[1, 2, 3], [4, 5, 6], [7, 8, 9]]) + np.array([[1, 2, 3], [4, 5, 6], [7, 8, 9]])"
   ]
  },
  {
   "cell_type": "code",
   "execution_count": 38,
   "id": "d6c1b463",
   "metadata": {},
   "outputs": [
    {
     "name": "stdout",
     "output_type": "stream",
     "text": [
      "Вот нулевая матрица 3 х 6:\n",
      "[[0. 0. 0. 0. 0. 0.]\n",
      " [0. 0. 0. 0. 0. 0.]\n",
      " [0. 0. 0. 0. 0. 0.]]\n",
      "\n",
      "Вот матрица 3х6, у которой единичная диагональ смещена на 1:\n",
      "[[0. 1. 0. 0. 0. 0.]\n",
      " [0. 0. 1. 0. 0. 0.]\n",
      " [0. 0. 0. 1. 0. 0.]]\n"
     ]
    }
   ],
   "source": [
    "# и есть специальные функции для создания нулевых и единичных матриц\n",
    "print('Вот нулевая матрица 3 х 6:')\n",
    "print(np.zeros((3,6)))\n",
    "print()\n",
    "\n",
    "print('Вот матрица 3х6, у которой единичная диагональ смещена на 1:')\n",
    "print(np.eye(3,6,1))"
   ]
  },
  {
   "cell_type": "code",
   "execution_count": 40,
   "id": "e5f7d289",
   "metadata": {},
   "outputs": [
    {
     "name": "stdout",
     "output_type": "stream",
     "text": [
      "А это матрица со случайными значениями:\n",
      "[[0.2964164  0.15848235 0.48792168]\n",
      " [0.54907553 0.44186184 0.26451633]\n",
      " [0.83810841 0.10381922 0.77211908]]\n"
     ]
    }
   ],
   "source": [
    "#Если же мы хотим матрицу со случайнымим знгачениями, то делаем np.random.rand\n",
    "matrix_rand = np.random.rand(3, 3)\n",
    "print('А это матрица со случайными значениями:')\n",
    "print(matrix_rand)"
   ]
  },
  {
   "cell_type": "code",
   "execution_count": 44,
   "id": "f2371409",
   "metadata": {},
   "outputs": [
    {
     "name": "stdout",
     "output_type": "stream",
     "text": [
      "Тут значения матрицы целые числа от -10 до 20:\n",
      "[[-9  4 13 19 16  9]\n",
      " [14  1 16 17 14 14]\n",
      " [-9 20 -1  7  4 -4]]\n",
      "\n",
      "А тут значения матрицы действительные числа от -10 до 20:\n",
      "[[13.03529461 19.98494958 -9.67080474 17.20614538 -1.91047691 -6.56319581]\n",
      " [14.62116933 10.955169   -9.07767412 17.93948931 -2.34529194 10.58685047]\n",
      " [ 7.82796486 -1.82372101 14.3617422   2.57089159 16.32701246  5.94217362]]\n",
      "\n"
     ]
    }
   ],
   "source": [
    "#если хотим значения ячеек не от 0 до 1, а от -10 до 20 (например), то немного модернизируем:\n",
    "print('Тут значения матрицы целые числа от -10 до 20:')\n",
    "print(np.random.randint(-10, 21, size=(3, 6)))\n",
    "print()\n",
    "\n",
    "print('А тут значения матрицы действительные числа от -10 до 20:')\n",
    "print(np.random.rand(3, 6)*30-10)\n",
    "print()"
   ]
  },
  {
   "cell_type": "code",
   "execution_count": 48,
   "id": "ab0bbcc2",
   "metadata": {},
   "outputs": [
    {
     "data": {
      "text/latex": [
       "$\\displaystyle \\left[\\begin{matrix}-1 & 0 & 0 & 0\\\\0 & 1 & 1 & 0\\\\0 & 1 & 1 & 0\\\\0 & 0 & 0 & 5\\\\0 & 0 & 0 & 7\\\\0 & 0 & 0 & 5\\end{matrix}\\right]$"
      ],
      "text/plain": [
       "Matrix([\n",
       "[-1, 0, 0, 0],\n",
       "[ 0, 1, 1, 0],\n",
       "[ 0, 1, 1, 0],\n",
       "[ 0, 0, 0, 5],\n",
       "[ 0, 0, 0, 7],\n",
       "[ 0, 0, 0, 5]])"
      ]
     },
     "execution_count": 48,
     "metadata": {},
     "output_type": "execute_result"
    }
   ],
   "source": [
    "# а еще можно создавать матрицы с помощью битблиотеки Sympy, но это специфические символьные вычисления\n",
    "# О различиях между SymPy и NumPy https://chat.openai.com/share/4790a2bb-b6aa-45eb-83e1-afbaa9ef549a \n",
    "\n",
    "from sympy import *\n",
    "diag(-1, ones(2,2), Matrix([5,7,5]))"
   ]
  },
  {
   "cell_type": "code",
   "execution_count": null,
   "id": "f6fc24cb",
   "metadata": {},
   "outputs": [],
   "source": []
  }
 ],
 "metadata": {
  "kernelspec": {
   "display_name": "Python 3 (ipykernel)",
   "language": "python",
   "name": "python3"
  },
  "language_info": {
   "codemirror_mode": {
    "name": "ipython",
    "version": 3
   },
   "file_extension": ".py",
   "mimetype": "text/x-python",
   "name": "python",
   "nbconvert_exporter": "python",
   "pygments_lexer": "ipython3",
   "version": "3.9.12"
  },
  "toc": {
   "base_numbering": 1,
   "nav_menu": {},
   "number_sections": true,
   "sideBar": true,
   "skip_h1_title": false,
   "title_cell": "Table of Contents",
   "title_sidebar": "Contents",
   "toc_cell": true,
   "toc_position": {},
   "toc_section_display": true,
   "toc_window_display": true
  }
 },
 "nbformat": 4,
 "nbformat_minor": 5
}
