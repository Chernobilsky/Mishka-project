{
 "cells": [
  {
   "cell_type": "markdown",
   "id": "e7c5f906",
   "metadata": {
    "toc": true
   },
   "source": [
    "<h1>Table of Contents<span class=\"tocSkip\"></span></h1>\n",
    "<div class=\"toc\"><ul class=\"toc-item\"><li><span><a href=\"#Все-функции\" data-toc-modified-id=\"Все-функции-1\"><span class=\"toc-item-num\">1&nbsp;&nbsp;</span>Все функции</a></span><ul class=\"toc-item\"><li><span><a href=\"#Функции-перевода-изображения-в-монохромный-формат-и-resize.\" data-toc-modified-id=\"Функции-перевода-изображения-в-монохромный-формат-и-resize.-1.1\"><span class=\"toc-item-num\">1.1&nbsp;&nbsp;</span>Функции перевода изображения в монохромный формат и resize.</a></span></li><li><span><a href=\"#Функции-разрезания-на-ленты\" data-toc-modified-id=\"Функции-разрезания-на-ленты-1.2\"><span class=\"toc-item-num\">1.2&nbsp;&nbsp;</span>Функции разрезания на ленты</a></span><ul class=\"toc-item\"><li><span><a href=\"#разрезание-на-ленты-на-примере-одной-матрицы\" data-toc-modified-id=\"разрезание-на-ленты-на-примере-одной-матрицы-1.2.1\"><span class=\"toc-item-num\">1.2.1&nbsp;&nbsp;</span>разрезание на ленты на примере одной матрицы</a></span></li></ul></li></ul></li></ul></div>"
   ]
  },
  {
   "cell_type": "code",
   "execution_count": 1,
   "id": "48932d4d",
   "metadata": {
    "ExecuteTime": {
     "end_time": "2024-03-21T19:24:48.138220Z",
     "start_time": "2024-03-21T19:24:47.112730Z"
    }
   },
   "outputs": [],
   "source": [
    "import numpy as np\n",
    "import matplotlib.pyplot as plt\n",
    "import math\n",
    "import time as tm\n",
    "\n",
    "from skimage import io, color, img_as_float\n",
    "from scipy.ndimage import map_coordinates\n",
    "import cv2 \n"
   ]
  },
  {
   "cell_type": "markdown",
   "id": "86ba7307",
   "metadata": {},
   "source": [
    "# Все функции"
   ]
  },
  {
   "cell_type": "markdown",
   "id": "bf7427b5",
   "metadata": {},
   "source": [
    "## Функции перевода изображения в монохромный формат и resize. \n",
    "А также функции умножения матрицы на транспонированную и различных нормализаций. \n",
    "Вдруг понадобятся ;-) "
   ]
  },
  {
   "cell_type": "code",
   "execution_count": 2,
   "id": "5f06a3e9",
   "metadata": {
    "ExecuteTime": {
     "end_time": "2024-03-21T19:24:48.159139Z",
     "start_time": "2024-03-21T19:24:48.140552Z"
    }
   },
   "outputs": [],
   "source": [
    "t1_itogo = tm.time()\n",
    "\n",
    "\n",
    "def monochrome(rgb_image):\n",
    "    coeffs = np.array([0.299, 0.587, 0.114]) #!!! Не переводим элементы вектора в формат unit8\n",
    "    return rgb_image @ coeffs\n",
    "\n",
    "\n",
    "def resize_and_monochrome (picture, k):\n",
    "    new_size = (round(picture.shape[1]/k), round(picture.shape[0]/k))\n",
    "    picture = cv2.resize(picture, new_size, interpolation=cv2.INTER_AREA)\n",
    "    picture_monochrome = monochrome(picture)\n",
    "    return picture, picture_monochrome\n",
    "\n"
   ]
  },
  {
   "cell_type": "code",
   "execution_count": 3,
   "id": "b41c322b",
   "metadata": {
    "ExecuteTime": {
     "end_time": "2024-03-21T19:24:48.194545Z",
     "start_time": "2024-03-21T19:24:48.164615Z"
    }
   },
   "outputs": [],
   "source": [
    "def normalize_image(im):   \n",
    "    im_res = im - np.min(im)\n",
    "    return (1 / np.max(im_res)) * im_res\n",
    "\n",
    "def norm_columns(x):\n",
    "    columns_sums = np.sum(x, axis=0)\n",
    "    columns_sums[columns_sums == 0] = np.finfo(float).eps\n",
    "    # Убедимся, что нормализация применяется корректно\n",
    "    return x / columns_sums[np.newaxis, :]\n",
    "\n",
    "# поправила norm_rows, а то там появляется деление на ноль\n",
    "def norm_rows(x):\n",
    "    row_sums = np.sum(x, axis=1)\n",
    "    # Замена нулей на очень маленькое число, чтобы избежать деления на ноль\n",
    "    row_sums[row_sums == 0] = np.finfo(float).eps\n",
    "    return x / row_sums[:, np.newaxis]\n",
    "\n",
    "\n",
    "def trans_mult(A):\n",
    "    result = normalize_image(np.dot(monochrome(A), np.transpose(monochrome(A))))\n",
    "    return result\n",
    "\n",
    "def trans_mult_norm(A):\n",
    "    result = normalize_image(np.dot(norm_rows(monochrome(A)), norm_columns(np.transpose(monochrome(A)))))\n",
    "    return result\n",
    "\n",
    "def trans_mult_norm_plus_1(A):\n",
    "    B = A+1\n",
    "    result = normalize_image(np.dot(norm_rows(monochrome(B)), norm_columns(np.transpose(monochrome(B)))))\n",
    "    return result\n",
    "\n",
    "def normalize_image_signed(img):\n",
    "    img1 = img - np.min(img)\n",
    "    img2 = (2 / np.max(img1)) * img1\n",
    "    return img2 - 1\n",
    "\n",
    "\n",
    "def trans_mult_signed(A):\n",
    "    B = normalize_image_signed(monochrome(A))\n",
    "    result = normalize_image(np.dot(B, np.transpose(B)))\n",
    "    return result"
   ]
  },
  {
   "cell_type": "markdown",
   "id": "d82edf78",
   "metadata": {},
   "source": [
    "## Функции разрезания на ленты"
   ]
  },
  {
   "cell_type": "markdown",
   "id": "371c2935",
   "metadata": {},
   "source": [
    "### разрезание на ленты на примере одной матрицы"
   ]
  },
  {
   "cell_type": "code",
   "execution_count": 70,
   "id": "2361317c",
   "metadata": {
    "ExecuteTime": {
     "end_time": "2024-03-21T20:52:58.116044Z",
     "start_time": "2024-03-21T20:52:58.091141Z"
    },
    "scrolled": false
   },
   "outputs": [
    {
     "name": "stdout",
     "output_type": "stream",
     "text": [
      "[[ 0  3]\n",
      " [12  2]\n",
      " [ 9  7]\n",
      " [ 2 14]\n",
      " [-3 13]\n",
      " [ 2  5]\n",
      " [ 0  9]]\n",
      "[[ 6  3  2  2  5]\n",
      " [ 4  5 -1  7 -2]]\n",
      "форма вертикальных лент, нарезанных из матрицы А (7, 2)\n",
      "форма горизонтальных лент, нарезанных из матрицы В (2, 5)\n",
      "\n",
      "матрица С номер  1 :\n",
      "[[  14   56   63    0   21]\n",
      " [  10   70   80  -45   45]\n",
      " [   2  -22  -26   45  -27]\n",
      " [  38   44   45  162  -51]\n",
      " [ -34  -94 -104  -63   -9]\n",
      " [  30   54   58   99  -21]\n",
      " [  12   18   19   45  -12]]\n",
      "\n",
      "матрица С номер  2 :\n",
      "[[ 12  15  -3  21  -6]\n",
      " [ 80  46  22  38  56]\n",
      " [ 82  62  11  67  31]\n",
      " [ 68  76 -10 102 -18]\n",
      " [ 34  56 -19  85 -41]\n",
      " [ 32  31  -1  39   0]\n",
      " [ 36  45  -9  63 -18]]\n",
      "\n",
      "матрица С номер  3 :\n",
      "[[  7  60 -46  -4 118]\n",
      " [ 18  33   3 111 -20]\n",
      " [ 10  42 -22  38  52]\n",
      " [ 15  39  -9  81  14]\n",
      " [ -2   9 -13 -25  36]\n",
      " [ -9 -24   6 -48 -10]\n",
      " [ -2   6 -10 -22  28]]\n",
      "\n",
      "матрица С номер  4 :\n",
      "[[ 43 -24 -18  55  67]\n",
      " [-32 -28 -50 -18  -4]\n",
      " [218  42 135 197 176]\n",
      " [-12  -2  -7 -11 -10]\n",
      " [ -2  28  38 -16 -30]\n",
      " [ 87   6  39  84  81]\n",
      " [100 -40 -20 120 140]]\n",
      "\n",
      "матрица С номер  5 :\n",
      "[[  3   3  24  18   6]\n",
      " [ 19  19 152 114  38]\n",
      " [ -5  -5 -40 -30 -10]\n",
      " [ 16  16 128  96  32]\n",
      " [  0   0   0   0   0]\n",
      " [ -9  -9 -72 -54 -18]\n",
      " [  2   2  16  12   4]]\n",
      "\n"
     ]
    }
   ],
   "source": [
    "# А теперь возьмем m x n и n x k\n",
    "\n",
    "num_rows_A = 7\n",
    "num_columns_A = 9\n",
    "strip_width = 2\n",
    "number_strips = num_columns_A//strip_width +1\n",
    "last_strip = num_columns_A%strip_width\n",
    "\n",
    "A = np.random.randint(-10, 21, size=(num_rows_A, num_columns_A))\n",
    "\n",
    "# Разделение матрицы A на number_strips матриц размером num_rows_A*strip_width и одну матрицу \"остатка\" num_rows*last_strip \n",
    "sub_matrices_A = np.array_split(A, number_strips, axis=1)\n",
    "\n",
    "\n",
    "\n",
    "\n",
    "num_rows_B = 9\n",
    "num_columns_B = 5\n",
    "strip_width = 2\n",
    "number_strips_B = num_rows_B//strip_width + 1\n",
    "last_strip_B = num_rows_B%strip_width\n",
    "\n",
    "B = np.random.randint(-3, 10, size=(num_rows_B, num_columns_B))\n",
    "\n",
    "\n",
    "# Разделение матрицы A на number_strips матриц размером num_rows_A*strip_width и одну матрицу \"остатка\" num_rows*last_strip \n",
    "sub_matrices_B = np.array_split(B, number_strips_B, axis=0)\n",
    "\n",
    "# размер получившихся \"лент\"\n",
    "\n",
    "\n",
    "\n",
    "\n",
    "# Это у нас вторая вертикальная  \"лента\". Когда режем А\n",
    "print(sub_matrices_A[1])\n",
    "# Это у нас вторая горизонтальная  \"лента\". Когда режем В\n",
    "print(sub_matrices_B[1])\n",
    "\n",
    "\n",
    "print('форма вертикальных лент, нарезанных из матрицы А', sub_matrices_A[1].shape)\n",
    "print('форма горизонтальных лент, нарезанных из матрицы В',sub_matrices_B[1].shape)\n",
    "print()\n",
    "\n",
    "\n",
    "C = [0] * len(sub_matrices_A)\n",
    "\n",
    "\n",
    "for i in range(len(sub_matrices_A)):\n",
    "    print('матрица С номер ',i+1,':')\n",
    "    C[i] = sub_matrices_A[i].dot(sub_matrices_B[i])\n",
    "    print(C[i])\n",
    "    print()\n",
    "    \n",
    "# Если размеры матриц А и В m x n и n x m , то все леныт друг на друга легко умножаются "
   ]
  },
  {
   "cell_type": "code",
   "execution_count": null,
   "id": "b717fc25",
   "metadata": {},
   "outputs": [],
   "source": []
  },
  {
   "cell_type": "code",
   "execution_count": null,
   "id": "3426fb61",
   "metadata": {},
   "outputs": [],
   "source": []
  },
  {
   "cell_type": "code",
   "execution_count": null,
   "id": "d779cf0c",
   "metadata": {},
   "outputs": [],
   "source": []
  },
  {
   "cell_type": "code",
   "execution_count": null,
   "id": "69abfa9c",
   "metadata": {},
   "outputs": [],
   "source": []
  },
  {
   "cell_type": "code",
   "execution_count": null,
   "id": "86a8890c",
   "metadata": {},
   "outputs": [],
   "source": []
  },
  {
   "cell_type": "markdown",
   "id": "69e0a299",
   "metadata": {},
   "source": [
    "Пусть размеры матриц А и В ***m x n*** и ***n x m***"
   ]
  },
  {
   "cell_type": "code",
   "execution_count": 54,
   "id": "b16070a4",
   "metadata": {
    "ExecuteTime": {
     "end_time": "2024-03-21T20:37:55.348944Z",
     "start_time": "2024-03-21T20:37:55.316295Z"
    },
    "scrolled": false
   },
   "outputs": [
    {
     "name": "stdout",
     "output_type": "stream",
     "text": [
      "(7, 2)\n",
      "(7, 1)\n",
      "[[17 -8]\n",
      " [-1 18]\n",
      " [16  2]\n",
      " [18 12]\n",
      " [16 -8]\n",
      " [-8 -2]\n",
      " [ 2 11]]\n",
      "(2, 7)\n",
      "(1, 7)\n",
      "[[ 4 -1  6  6 -3  9  0]\n",
      " [-1 -2 -2  9  9  4  4]]\n",
      "[[  76   -1  118   30 -123  121  -32]\n",
      " [ -22  -35  -42  156  165   63   72]\n",
      " [  62  -20   92  114  -30  152    8]\n",
      " [  60  -42   84  216   54  210   48]\n",
      " [  72    0  112   24 -120  112  -32]\n",
      " [ -30   12  -44  -66    6  -80   -8]\n",
      " [  -3  -24  -10  111   93   62   44]]\n",
      "[[-22  26  -2  18  12  34  57]\n",
      " [ 72  54  22 -28  38 -34 -32]\n",
      " [-24 -15  -7  10 -11  13  14]\n",
      " [ 10 -20   0 -10 -10 -20 -35]\n",
      " [ 64  70  22 -20  46 -18  -4]\n",
      " [-14  19  -1  12   9  23  39]\n",
      " [ 78  51  23 -32  37 -41 -43]]\n",
      "[[ 30  99   8  98  92  95  65]\n",
      " [114  33  48 126 156 141  27]\n",
      " [114  72  46 154 178 166  52]\n",
      " [-56  -8 -24 -56 -72 -64  -8]\n",
      " [ 99   3  43  91 121 106   7]\n",
      " [131  41  55 147 181 164  33]\n",
      " [-43 -34 -17 -63 -71 -67 -24]]\n",
      "[[ 21  21  28 168  70  91 126]\n",
      " [ 72  48 -40 -24  32 -16   0]\n",
      " [-86 -55  61  87 -18  51  42]\n",
      " [ 10   5 -15 -45 -10 -25 -30]\n",
      " [ 68  46 -34  -6  36  -6  12]\n",
      " [133  92 -55  39  88  16  60]\n",
      " [ 33  27  10 114  58  61  90]]\n",
      "[[ -7 -63  14 -14 -63   7  14]\n",
      " [  6  54 -12  12  54  -6 -12]\n",
      " [ 19 171 -38  38 171 -19 -38]\n",
      " [ 15 135 -30  30 135 -15 -30]\n",
      " [ -9 -81  18 -18 -81   9  18]\n",
      " [  5  45 -10  10  45  -5 -10]\n",
      " [  5  45 -10  10  45  -5 -10]]\n"
     ]
    }
   ],
   "source": [
    "# разрежем одну матрицу на вертикальные ленты\n",
    "# для разных размеров матрицы\n",
    "# нужно ли менять название на  number_strips_A? Это по сути тот же number_strips, что и для B\n",
    "num_rows_A = 7\n",
    "num_columns_A = 9\n",
    "strip_width = 2\n",
    "number_strips_A = num_columns_A//strip_width+1\n",
    "last_strip = num_columns_A%strip_width\n",
    "\n",
    "A = np.random.randint(-10, 21, size=(num_rows_A, num_columns_A))\n",
    "\n",
    "\n",
    "\n",
    "# Разделение матрицы A на number_strips матриц размером num_rows_A*strip_width и одну матрицу \"остатка\" num_rows*last_strip \n",
    "sub_matrices_A = np.array_split(A, number_strips_A, axis=1)\n",
    "\n",
    "# размер получившихся \"лент\"\n",
    "print(sub_matrices_A[0].shape)\n",
    "\n",
    "# размер \"ленты\" остатка\n",
    "print(sub_matrices_A[-1].shape)\n",
    "\n",
    "# Это у нас первая \"лента\"\n",
    "\n",
    "print(sub_matrices_A[0])\n",
    "# это лента \"остатка\"\n",
    "# sub_matrices_A[-1]\n",
    "\n",
    "num_rows_B = 9\n",
    "num_columns_B = 7\n",
    "strip_width = 2\n",
    "number_strips_B = num_rows_B//strip_width+1\n",
    "last_strip_B = num_rows_B%strip_width\n",
    "\n",
    "B = np.random.randint(-3, 10, size=(num_rows_B, num_columns_B))\n",
    "\n",
    "\n",
    "# Разделение матрицы A на number_strips матриц размером num_rows_A*strip_width и одну матрицу \"остатка\" num_rows*last_strip \n",
    "sub_matrices_B = np.array_split(B, number_strips_B, axis=0)\n",
    "\n",
    "# размер получившихся \"лент\"\n",
    "print(sub_matrices_B[0].shape)\n",
    "\n",
    "# размер \"ленты\" остатка\n",
    "print(sub_matrices_B[-1].shape)\n",
    "print(sub_matrices_B[0])\n",
    "\n",
    "# Это у нас первая \"лента\"\n",
    "\n",
    "# это лента \"остатка\"\n",
    "# sub_matrices_B[-1]\n",
    "\n",
    "C = [0] * len(sub_matrices_A)\n",
    "\n",
    "for i in range(len(sub_matrices_A)):\n",
    "    C[i] = sub_matrices_A[i].dot(sub_matrices_B[i])\n",
    "    print(C[i])\n",
    "    \n",
    "# Если размеры матриц А и В m x n и n x m , то все леныт друг на друга легко умножаются \n"
   ]
  },
  {
   "cell_type": "markdown",
   "id": "f789aaa6",
   "metadata": {},
   "source": [
    "Пусть  размеры матриц А и В ***m x n*** и ***n x k***"
   ]
  },
  {
   "cell_type": "code",
   "execution_count": 55,
   "id": "0048ebd4",
   "metadata": {
    "ExecuteTime": {
     "end_time": "2024-03-21T20:38:41.157306Z",
     "start_time": "2024-03-21T20:38:41.139316Z"
    },
    "scrolled": false
   },
   "outputs": [
    {
     "name": "stdout",
     "output_type": "stream",
     "text": [
      "(7, 2)\n",
      "(7, 1)\n",
      "[[ 3  0]\n",
      " [-1 -3]\n",
      " [14 11]\n",
      " [14 -6]\n",
      " [16  7]\n",
      " [18  4]\n",
      " [-5 10]]\n",
      "(2, 5)\n",
      "(1, 5)\n",
      "[[ 3  8 -3  2  6]\n",
      " [ 0 -2  1 -3  9]]\n",
      "[[  9  24  -9   6  18]\n",
      " [ -3  -2   0   7 -33]\n",
      " [ 42  90 -31  -5 183]\n",
      " [ 42 124 -48  46  30]\n",
      " [ 48 114 -41  11 159]\n",
      " [ 54 136 -50  24 144]\n",
      " [-15 -60  25 -40  60]]\n",
      "[[-71  53  89 -66 -62]\n",
      " [106 101 -52 150 133]\n",
      " [ 45 219  57 114  96]\n",
      " [-12 167  86  34  25]\n",
      " [ 49  98  -1  84  73]\n",
      " [ -5  41  23   6   4]\n",
      " [ 46 152  26  96  82]]\n",
      "[[-52 125  13  77  54]\n",
      " [ 60 -58  44 -48 -26]\n",
      " [-38 133  38  76  57]\n",
      " [-10 130  75  65  55]\n",
      " [ -8  85  47  43  36]\n",
      " [-30 124  43  69  53]\n",
      " [-36 -45 -81  -9 -18]]\n",
      "[[ 12   9  -9  -3  12]\n",
      " [ -8  15  13  16 -15]\n",
      " [-20 -27  11  -3 -16]\n",
      " [-44 -48  28   1 -39]\n",
      " [128 147 -79   2 111]\n",
      " [100 108 -64  -3  89]\n",
      " [ 36   9 -33 -21  42]]\n",
      "[[ -4  32  24   0   8]\n",
      " [ -1   8   6   0   2]\n",
      " [  3 -24 -18   0  -6]\n",
      " [-14 112  84   0  28]\n",
      " [ 10 -80 -60   0 -20]\n",
      " [-10  80  60   0  20]\n",
      " [ -8  64  48   0  16]]\n"
     ]
    }
   ],
   "source": [
    "# разрежем одну матрицу на вертикальные ленты\n",
    "# для разных размеров матрицы\n",
    "# нужно ли менять название на  number_strips_A? Это по сути тот же number_strips, что и для B\n",
    "num_rows_A = 7\n",
    "num_columns_A = 9\n",
    "strip_width = 2\n",
    "number_strips_A = num_columns_A//strip_width+1\n",
    "\n",
    "\n",
    "A = np.random.randint(-10, 21, size=(num_rows_A, num_columns_A))\n",
    "\n",
    "\n",
    "\n",
    "# Разделение матрицы A на number_strips матриц размером num_rows_A*strip_width и одну матрицу \"остатка\" num_rows*last_strip \n",
    "sub_matrices_A = np.array_split(A, number_strips_A, axis=1)\n",
    "\n",
    "# размер получившихся \"лент\"\n",
    "print(sub_matrices_A[0].shape)\n",
    "\n",
    "# размер \"ленты\" остатка\n",
    "print(sub_matrices_A[-1].shape)\n",
    "\n",
    "# Это у нас первая \"лента\"\n",
    "\n",
    "print(sub_matrices_A[0])\n",
    "# это лента \"остатка\"\n",
    "# sub_matrices_A[-1]\n",
    "\n",
    "num_rows_B = 9\n",
    "num_columns_B = 5\n",
    "strip_width = 2\n",
    "number_strips_B = num_rows_B//strip_width+1\n",
    "\n",
    "\n",
    "B = np.random.randint(-3, 10, size=(num_rows_B, num_columns_B))\n",
    "\n",
    "\n",
    "# Разделение матрицы A на number_strips матриц размером num_rows_A*strip_width и одну матрицу \"остатка\" num_rows*last_strip \n",
    "sub_matrices_B = np.array_split(B, number_strips_B, axis=0)\n",
    "\n",
    "# размер получившихся \"лент\"\n",
    "print(sub_matrices_B[0].shape)\n",
    "\n",
    "# размер \"ленты\" остатка\n",
    "print(sub_matrices_B[-1].shape)\n",
    "print(sub_matrices_B[0])\n",
    "\n",
    "# Это у нас первая \"лента\"\n",
    "\n",
    "# это лента \"остатка\"\n",
    "# sub_matrices_B[-1]\n",
    "\n",
    "C = [0] * len(sub_matrices_A)\n",
    "\n",
    "for i in range(len(sub_matrices_A)):\n",
    "    C[i] = sub_matrices_A[i].dot(sub_matrices_B[i])\n",
    "    print(C[i])\n",
    "    \n",
    "# Если размеры матриц А и В m x n и n x m , то все леныт друг на друга легко умножаются \n"
   ]
  },
  {
   "cell_type": "code",
   "execution_count": 11,
   "id": "e206ea02",
   "metadata": {
    "ExecuteTime": {
     "end_time": "2024-03-21T19:24:48.328534Z",
     "start_time": "2024-03-21T19:24:48.313500Z"
    }
   },
   "outputs": [
    {
     "name": "stdout",
     "output_type": "stream",
     "text": [
      "вся тетрадка заняла 0 минут 0 секунд\n"
     ]
    }
   ],
   "source": [
    "t2_itogo = tm.time()\n",
    "print('вся тетрадка заняла', round(t2_itogo - t1_itogo)//60,'минут', round(t2_itogo - t1_itogo)%60,'секунд')"
   ]
  }
 ],
 "metadata": {
  "kernelspec": {
   "display_name": "Python 3 (ipykernel)",
   "language": "python",
   "name": "python3"
  },
  "language_info": {
   "codemirror_mode": {
    "name": "ipython",
    "version": 3
   },
   "file_extension": ".py",
   "mimetype": "text/x-python",
   "name": "python",
   "nbconvert_exporter": "python",
   "pygments_lexer": "ipython3",
   "version": "3.9.12"
  },
  "toc": {
   "base_numbering": 1,
   "nav_menu": {},
   "number_sections": true,
   "sideBar": true,
   "skip_h1_title": false,
   "title_cell": "Table of Contents",
   "title_sidebar": "Contents",
   "toc_cell": true,
   "toc_position": {
    "height": "calc(100% - 180px)",
    "left": "10px",
    "top": "150px",
    "width": "303.825px"
   },
   "toc_section_display": true,
   "toc_window_display": true
  }
 },
 "nbformat": 4,
 "nbformat_minor": 5
}
