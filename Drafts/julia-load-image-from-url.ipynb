{
 "cells": [
  {
   "cell_type": "code",
   "execution_count": 1,
   "id": "309d1225",
   "metadata": {},
   "outputs": [],
   "source": [
    "# Julia; read images from the Web\n",
    "using FileIO, HTTP, Images\n",
    "import ImageView: imshow"
   ]
  },
  {
   "cell_type": "code",
   "execution_count": null,
   "id": "bfb589cb",
   "metadata": {},
   "outputs": [],
   "source": [
    "img = load(HTTP.URI(\"https://images.unsplash.com/photo-1534567059665-cbcfe2e73b91\"))"
   ]
  },
  {
   "cell_type": "code",
   "execution_count": null,
   "id": "c76bc5af",
   "metadata": {},
   "outputs": [],
   "source": []
  }
 ],
 "metadata": {
  "kernelspec": {
   "display_name": "Julia 1.10.0",
   "language": "julia",
   "name": "julia-1.10"
  },
  "language_info": {
   "file_extension": ".jl",
   "mimetype": "application/julia",
   "name": "julia",
   "version": "1.10.0"
  }
 },
 "nbformat": 4,
 "nbformat_minor": 5
}
