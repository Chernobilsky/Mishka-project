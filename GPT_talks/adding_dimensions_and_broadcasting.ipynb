{
 "cells": [
  {
   "cell_type": "markdown",
   "id": "39421ef2",
   "metadata": {
    "toc": true
   },
   "source": [
    "<h1>Table of Contents<span class=\"tocSkip\"></span></h1>\n",
    "<div class=\"toc\"><ul class=\"toc-item\"><li><span><a href=\"#Изменение-размерностей-массивов-с-помощью-[:,np.newaxis]-или-[:,None]\" data-toc-modified-id=\"Изменение-размерностей-массивов-с-помощью-[:,np.newaxis]-или-[:,None]-1\"><span class=\"toc-item-num\">1&nbsp;&nbsp;</span>Изменение размерностей массивов с помощью <code>[:,np.newaxis]</code> или <code>[:,None]</code></a></span><ul class=\"toc-item\"><li><span><a href=\"#Код-от-Мишки\" data-toc-modified-id=\"Код-от-Мишки-1.1\"><span class=\"toc-item-num\">1.1&nbsp;&nbsp;</span>Код от Мишки</a></span></li><li><span><a href=\"#Тестируем-на-матрице-matrix-формой-3-×4\" data-toc-modified-id=\"Тестируем-на-матрице-matrix-формой-3-×4-1.2\"><span class=\"toc-item-num\">1.2&nbsp;&nbsp;</span>Тестируем на матрице matrix формой 3 ×4</a></span></li></ul></li><li><span><a href=\"#Поэлементные-операции-между-массивами-и-совместимость-массивов\" data-toc-modified-id=\"Поэлементные-операции-между-массивами-и-совместимость-массивов-2\"><span class=\"toc-item-num\">2&nbsp;&nbsp;</span>Поэлементные операции между массивами и совместимость массивов</a></span></li></ul></div>"
   ]
  },
  {
   "cell_type": "markdown",
   "id": "a5784a43",
   "metadata": {},
   "source": [
    "# Изменение размерностей массивов с помощью `[:,np.newaxis]` или `[:,None]`"
   ]
  },
  {
   "cell_type": "markdown",
   "id": "bc651e5f",
   "metadata": {},
   "source": [
    "## Код от Мишки"
   ]
  },
  {
   "cell_type": "code",
   "execution_count": 1,
   "id": "12844c40",
   "metadata": {},
   "outputs": [
    {
     "data": {
      "text/plain": [
       "array([-1, 12])"
      ]
     },
     "execution_count": 1,
     "metadata": {},
     "output_type": "execute_result"
    }
   ],
   "source": [
    "import numpy as np\n",
    "x = np.array([[2,5], [-3, 7]])\n",
    "\n",
    "np.sum(x, axis=0)\n",
    "# параметр axis=0 это значит, что мы суммируем по столбцам"
   ]
  },
  {
   "cell_type": "code",
   "execution_count": 2,
   "id": "bccb2548",
   "metadata": {},
   "outputs": [
    {
     "data": {
      "text/plain": [
       "array([[ 2,  5],\n",
       "       [-3,  7]])"
      ]
     },
     "execution_count": 2,
     "metadata": {},
     "output_type": "execute_result"
    }
   ],
   "source": [
    "x"
   ]
  },
  {
   "cell_type": "code",
   "execution_count": 3,
   "id": "a63ad64b",
   "metadata": {},
   "outputs": [
    {
     "data": {
      "text/plain": [
       "array([[-2.        ,  0.41666667],\n",
       "       [ 3.        ,  0.58333333]])"
      ]
     },
     "execution_count": 3,
     "metadata": {},
     "output_type": "execute_result"
    }
   ],
   "source": [
    "# тут делим на суммы по столбцам\n",
    "x/np.sum(x, axis=0)"
   ]
  },
  {
   "cell_type": "code",
   "execution_count": 4,
   "id": "e276e575",
   "metadata": {},
   "outputs": [
    {
     "data": {
      "text/plain": [
       "array([7, 4])"
      ]
     },
     "execution_count": 4,
     "metadata": {},
     "output_type": "execute_result"
    }
   ],
   "source": [
    "np.sum(x, axis=1)\n",
    "# параметр axis=1 это значит, что мы суммируем по строкам"
   ]
  },
  {
   "cell_type": "code",
   "execution_count": 5,
   "id": "b8730550",
   "metadata": {},
   "outputs": [
    {
     "data": {
      "text/plain": [
       "array([[ 0.28571429,  1.25      ],\n",
       "       [-0.42857143,  1.75      ]])"
      ]
     },
     "execution_count": 5,
     "metadata": {},
     "output_type": "execute_result"
    }
   ],
   "source": [
    "# то есть все прекрасно делится и в том случае, когда делим на суммы по строкам\n",
    "#  потому что матрица 2 х 2.\n",
    "x/np.sum(x, axis=1)"
   ]
  },
  {
   "cell_type": "code",
   "execution_count": 6,
   "id": "949d24a0",
   "metadata": {
    "scrolled": true
   },
   "outputs": [
    {
     "data": {
      "text/plain": [
       "array([[7],\n",
       "       [4]])"
      ]
     },
     "execution_count": 6,
     "metadata": {},
     "output_type": "execute_result"
    }
   ],
   "source": [
    "np.sum(x, axis=1)[:, np.newaxis]"
   ]
  },
  {
   "cell_type": "code",
   "execution_count": 7,
   "id": "135b2939",
   "metadata": {
    "scrolled": true
   },
   "outputs": [
    {
     "data": {
      "text/plain": [
       "(2, 1)"
      ]
     },
     "execution_count": 7,
     "metadata": {},
     "output_type": "execute_result"
    }
   ],
   "source": [
    "np.sum(x, axis=1)[:, np.newaxis].shape"
   ]
  },
  {
   "cell_type": "code",
   "execution_count": 8,
   "id": "cd23139b",
   "metadata": {},
   "outputs": [
    {
     "data": {
      "text/plain": [
       "array([[7],\n",
       "       [4]])"
      ]
     },
     "execution_count": 8,
     "metadata": {},
     "output_type": "execute_result"
    }
   ],
   "source": [
    "# [:, None] работает так же, как и  [:, np.newaxis]\n",
    "np.sum(x, axis=1)[:,None] "
   ]
  },
  {
   "cell_type": "markdown",
   "id": "8fe0ebf8",
   "metadata": {},
   "source": [
    "`[:, np.newaxis]` превращает список длины n в двумерный массив (матрицу) размера n x 1.\n",
    "\n",
    "Фактически происходит следующее:\n",
    "- `[:, ]` вот это показывает, что мы берем срез , куда включаем все элементы массива\n",
    "- np.newaxis  - это добавление нового измерения\n",
    "\n",
    "\n",
    "вместо `[:, np.newaxis]` можно использовать  `[:, None]` - тоже добавляет измерение"
   ]
  },
  {
   "cell_type": "markdown",
   "id": "0e37dffa",
   "metadata": {},
   "source": [
    "[разговор с ChatGPT про работу срезов [:,None] и [:,np.naxis]](https://chat.openai.com/share/56d37158-491f-4d2d-9f79-3ce252d07d36)"
   ]
  },
  {
   "cell_type": "code",
   "execution_count": 9,
   "id": "68b96de0",
   "metadata": {},
   "outputs": [
    {
     "data": {
      "text/plain": [
       "(2, 1, 2)"
      ]
     },
     "execution_count": 9,
     "metadata": {},
     "output_type": "execute_result"
    }
   ],
   "source": [
    "# Эта же операция [:,None] превращает двумерный массив в трехмерный\n",
    "x[:, None].shape"
   ]
  },
  {
   "cell_type": "markdown",
   "id": "80a156ad",
   "metadata": {},
   "source": [
    "## Тестируем на матрице matrix формой 3 &times;4"
   ]
  },
  {
   "cell_type": "code",
   "execution_count": 10,
   "id": "fa5c9129",
   "metadata": {},
   "outputs": [],
   "source": [
    "# x - это квадратная матрица. Там поэлентное стравнение всегда будет проходить, это неинтересно\n",
    "# Попробуем матрицу 3 х 4\n",
    "matrix = np.array([[ -10,  2,  13,  4], [ 5,  26,  -7,  8], [ 9, 10, 111, 12]])"
   ]
  },
  {
   "cell_type": "code",
   "execution_count": 11,
   "id": "7c99fc8d",
   "metadata": {
    "scrolled": true
   },
   "outputs": [
    {
     "data": {
      "text/plain": [
       "array([[-10,   2,  13,   4],\n",
       "       [  5,  26,  -7,   8],\n",
       "       [  9,  10, 111,  12]])"
      ]
     },
     "execution_count": 11,
     "metadata": {},
     "output_type": "execute_result"
    }
   ],
   "source": [
    "matrix"
   ]
  },
  {
   "cell_type": "code",
   "execution_count": 12,
   "id": "7faf75da",
   "metadata": {},
   "outputs": [
    {
     "data": {
      "text/plain": [
       "array([  4,  38, 117,  24])"
      ]
     },
     "execution_count": 12,
     "metadata": {},
     "output_type": "execute_result"
    }
   ],
   "source": [
    "# при axis=0 суммируем по столбцам. Было 4 столбца, значит в результате суммирования будет список из 4-х элементов\n",
    "np.sum(matrix, axis=0)"
   ]
  },
  {
   "cell_type": "code",
   "execution_count": 13,
   "id": "4d956494",
   "metadata": {},
   "outputs": [
    {
     "data": {
      "text/plain": [
       "array([[  4],\n",
       "       [ 38],\n",
       "       [117],\n",
       "       [ 24]])"
      ]
     },
     "execution_count": 13,
     "metadata": {},
     "output_type": "execute_result"
    }
   ],
   "source": [
    "np.sum(matrix, axis=0)[:,None]"
   ]
  },
  {
   "cell_type": "code",
   "execution_count": 14,
   "id": "b591a773",
   "metadata": {},
   "outputs": [
    {
     "data": {
      "text/plain": [
       "(4, 1)"
      ]
     },
     "execution_count": 14,
     "metadata": {},
     "output_type": "execute_result"
    }
   ],
   "source": [
    "np.sum(matrix, axis=0)[:,None].shape"
   ]
  },
  {
   "cell_type": "code",
   "execution_count": 15,
   "id": "a13ac1f3",
   "metadata": {
    "scrolled": true
   },
   "outputs": [
    {
     "data": {
      "text/plain": [
       "array([  9,  32, 142])"
      ]
     },
     "execution_count": 15,
     "metadata": {},
     "output_type": "execute_result"
    }
   ],
   "source": [
    "# при aqxis=1 суммируем по строкам . Было 3 строки, значит в результате суммирования будет список из 3-х элементов\n",
    "np.sum(matrix, axis=1)"
   ]
  },
  {
   "cell_type": "code",
   "execution_count": 16,
   "id": "c7a6a28b",
   "metadata": {},
   "outputs": [
    {
     "data": {
      "text/plain": [
       "(3, 1)"
      ]
     },
     "execution_count": 16,
     "metadata": {},
     "output_type": "execute_result"
    }
   ],
   "source": [
    "np.sum(matrix, axis=1)[:,None].shape"
   ]
  },
  {
   "cell_type": "code",
   "execution_count": 17,
   "id": "59296115",
   "metadata": {},
   "outputs": [
    {
     "data": {
      "text/plain": [
       "array([[-1.11111111,  0.22222222,  1.44444444,  0.44444444],\n",
       "       [ 0.15625   ,  0.8125    , -0.21875   ,  0.25      ],\n",
       "       [ 0.06338028,  0.07042254,  0.78169014,  0.08450704]])"
      ]
     },
     "execution_count": 17,
     "metadata": {},
     "output_type": "execute_result"
    }
   ],
   "source": [
    "matrix/(np.sum(matrix, axis=1)[:,None])"
   ]
  },
  {
   "cell_type": "code",
   "execution_count": 18,
   "id": "1844d0eb",
   "metadata": {},
   "outputs": [
    {
     "data": {
      "text/plain": [
       "array([[[-10,   2,  13,   4]],\n",
       "\n",
       "       [[  5,  26,  -7,   8]],\n",
       "\n",
       "       [[  9,  10, 111,  12]]])"
      ]
     },
     "execution_count": 18,
     "metadata": {},
     "output_type": "execute_result"
    }
   ],
   "source": [
    "matrix[:,None]"
   ]
  },
  {
   "cell_type": "code",
   "execution_count": 19,
   "id": "ff9c5c32",
   "metadata": {},
   "outputs": [
    {
     "data": {
      "text/plain": [
       "(3, 1, 4)"
      ]
     },
     "execution_count": 19,
     "metadata": {},
     "output_type": "execute_result"
    }
   ],
   "source": [
    "#   матрицу (двумерный массив) ингдикация превращает в трехмерный\n",
    "matrix[:,None].shape"
   ]
  },
  {
   "cell_type": "code",
   "execution_count": 20,
   "id": "a54e6dd0",
   "metadata": {
    "scrolled": true
   },
   "outputs": [
    {
     "data": {
      "text/plain": [
       "(3, 1, 4)"
      ]
     },
     "execution_count": 20,
     "metadata": {},
     "output_type": "execute_result"
    }
   ],
   "source": [
    "matrix[:,np.newaxis].shape"
   ]
  },
  {
   "cell_type": "code",
   "execution_count": 21,
   "id": "d1e30934",
   "metadata": {},
   "outputs": [
    {
     "data": {
      "text/plain": [
       "(3, 1, 1, 4)"
      ]
     },
     "execution_count": 21,
     "metadata": {},
     "output_type": "execute_result"
    }
   ],
   "source": [
    "# а трехмерный массив индексация [:,None] превращает в четырехмерный\n",
    "# всегда новое измерение добавляется во вторую позицию\n",
    "test = matrix[:,None]\n",
    "test[:,None].shape"
   ]
  },
  {
   "cell_type": "code",
   "execution_count": 22,
   "id": "e77fda68",
   "metadata": {
    "scrolled": false
   },
   "outputs": [
    {
     "data": {
      "text/plain": [
       "array([[[  6,  -9,   1,   3],\n",
       "        [  3, -10,   7,   7],\n",
       "        [ -9,  -6,  -8,   6],\n",
       "        [  0,  -2,  -8,   8],\n",
       "        [  6,  -6, -10,   9]],\n",
       "\n",
       "       [[  2,  -7,   6,  -6],\n",
       "        [  8,   8,  -9,  -6],\n",
       "        [ -5,   2,  -3,  -6],\n",
       "        [ -8,  -2,   7,   9],\n",
       "        [ -9,  -4,   8,  -8]],\n",
       "\n",
       "       [[ -8,   1,   6,   3],\n",
       "        [  6,   3,  -2,   5],\n",
       "        [  4,  -6,   8,  -2],\n",
       "        [  8,   7,  -6,  10],\n",
       "        [  4, -10,  -2,  -5]]])"
      ]
     },
     "execution_count": 22,
     "metadata": {},
     "output_type": "execute_result"
    }
   ],
   "source": [
    "# проверим работу на трехмерном массиве\n",
    "# radint - это функция, которая создает массив заданного размера со случайными целыми числами в заданном диапазоне. \n",
    "three_dimensional = np.random.randint(-10, 11, (3, 5, 4))\n",
    "three_dimensional"
   ]
  },
  {
   "cell_type": "code",
   "execution_count": 23,
   "id": "c6525750",
   "metadata": {},
   "outputs": [
    {
     "data": {
      "text/plain": [
       "(3, 1, 5, 4)"
      ]
     },
     "execution_count": 23,
     "metadata": {},
     "output_type": "execute_result"
    }
   ],
   "source": [
    "three_dimensional[:,None].shape\n",
    "#тут видим, что новое измерение у нас добавляется всегда во вторую позицию. \n",
    "# И по этому добавленному измерению размер массива будет равен единице"
   ]
  },
  {
   "cell_type": "code",
   "execution_count": 24,
   "id": "14a65552",
   "metadata": {},
   "outputs": [
    {
     "data": {
      "text/plain": [
       "(3, 1, 1, 5, 4)"
      ]
     },
     "execution_count": 24,
     "metadata": {},
     "output_type": "execute_result"
    }
   ],
   "source": [
    "# а тут мы сделали индексацию два раза подряд, в результате у нас добавились ддва измерения - второе и третье\n",
    "# и размер по каждому из этих измерений равыен единице\n",
    "three_dimensional[:,None][:,None].shape"
   ]
  },
  {
   "cell_type": "markdown",
   "id": "1cbaebc0",
   "metadata": {},
   "source": [
    "**Итого:**\n",
    "- индексации `[:, np.newaxis]` и `[:,None]` работают одинаково\n",
    "- `[:, None]` для любого массива дорбавляет новое измерение во вторую позицию\n",
    "- по этому измерению размер получившегося массива будет равен единице\n",
    "- То есть массив размера n<sub>1</sub> &times; n<sub>2</sub> &times;... &times; n<sub>k</sub> превращается в массив размера n<sub>1</sub> &times; 1 &times; n<sub>2</sub> &times;... &times; n<sub>k</sub>\n",
    "- В частности, `[:, None]` превращает список длины n в двумерный массив (матрицу) размера n &times; 1.\n",
    "\n",
    "Фактически происходит следующее:\n",
    "- `[:, ]` вот это показывает, что мы берем срез , куда включаем все элементы массива\n",
    "- `np.newaxis` или `None` - это добавление нового измерения\n",
    "\n",
    "**Разговор с ChatGPT :**\n",
    "\n",
    "[разговор с ChatGPT про работу срезов [:,None] и [:,np.naxis]](https://chat.openai.com/share/56d37158-491f-4d2d-9f79-3ce252d07d36)"
   ]
  },
  {
   "cell_type": "markdown",
   "id": "a00c0ecd",
   "metadata": {},
   "source": [
    "# Поэлементные операции между массивами и совместимость массивов"
   ]
  },
  {
   "cell_type": "markdown",
   "id": "addad934",
   "metadata": {},
   "source": [
    "**Поэлементные операции между массивами и совместимость массивов:**\n",
    "- Поэлементные операции между массивами можно выполнеять тогда и только тогда, когда эти массивы совместимы в плане трансляции (broadcasting);\n",
    "- Если два массива A и B имеют разное количество измерений, то перед выполнением поэлементной операции форма массива с меньшим количеством измерений дополняется единицами с левой стороны. Например, если одна матрица имеет форму `(5,4)`, а другая `(4,)`, то вторая матрица будет восприниматься как имеющая форму `(1,4)`.\n",
    "- Массивы совместимы тогда и только тогда, когда **после** дополнения в каждом измерении размеры матриц А и В **или** совпадают **или** размер одной из этих матриц равен единице. То есть пусть у нас есть матрицы с одинаковым количестом измерений и разными размерами. Матрица А размером a<sub>1</sub> &times; a<sub>2</sub>&times;... &times; a<sub>n</sub> и матрица B размером b<sub>1</sub> &times; b<sub>2</sub>&times;... &times; b<sub>n</sub>. Между A и B **можно проводить поэлементные операции**, если для **$\\forall i$ ((a<sub>i</sub> = b<sub>i</sub>) $\\lor$ (min(a<sub>i</sub>, b<sub>i</sub>) = 1))**\n",
    "\n",
    "\n",
    "[разговор с ChatGPT про совместимость массивов в плане трансляции для проведения поэлементных операций](https://chat.openai.com/share/403fcfae-85d5-411a-a7f4-363ab0228dcf)"
   ]
  },
  {
   "cell_type": "markdown",
   "id": "d68dde5c",
   "metadata": {},
   "source": [
    "**А теперь про поэлементные операции между матрицей и вектором:**\n",
    "\n",
    "Что же происходит, когда мы делим матрицу (то есть массив размерности 2) на вектор?\n",
    "\n",
    "\n",
    "В этом случае у нас естть массив m &times; n. Соответсвенно, мы можем проводить операцию с массивом с размером m &times; n, m &times; 1 или 1 &times; n.\n",
    "\n",
    "Но поскольку вектор у нас имеет размерность один, то перед выполнением поэлдементной операции он дополняется единицей с левой стороны. То есть вектор длины k у нас превращается в матрицу размером  1 &times; k\n",
    "\n",
    "\n",
    "**Вывод:**\n",
    "Матрицу размера m &times; n мы можем умножать/делить и др только на вектор длины n\n",
    "\n",
    "\n",
    "Если же у нас вектор длины m, то нам поможет ***операция индексации*** `[:,np.newaxis]` или `[:, None]` *(см. выше)*, которая добавит нам измерение во вторую позицию размером 1. То есть превратит наш вектор длины m в матрицу размера m &times; 1, в которой поэлементные операции прекрасно работают\n",
    "\n",
    "**Следствие:**\n",
    "- Если мы проводим операцию по столбцам матрице m &times; n, то у нас появляется вектор длины n. И между ним и исходной матрицей можно спокойно делать все поэлементные операции, потому что он автоматически дополнится единицами до матрицы 1 &times; n,\n",
    "- Если мы проводим операцию по строкам в матрице m &times; n, то у нас появляется вектор длины m. И чтобы проводить поэлементные операции этого вектора и исходной матрицы, нам надо будет провести индексацию `[:, None]` "
   ]
  },
  {
   "cell_type": "code",
   "execution_count": null,
   "id": "d97e26c9",
   "metadata": {},
   "outputs": [],
   "source": []
  }
 ],
 "metadata": {
  "kernelspec": {
   "display_name": "Python 3 (ipykernel)",
   "language": "python",
   "name": "python3"
  },
  "language_info": {
   "codemirror_mode": {
    "name": "ipython",
    "version": 3
   },
   "file_extension": ".py",
   "mimetype": "text/x-python",
   "name": "python",
   "nbconvert_exporter": "python",
   "pygments_lexer": "ipython3",
   "version": "3.9.12"
  },
  "toc": {
   "base_numbering": 1,
   "nav_menu": {},
   "number_sections": true,
   "sideBar": true,
   "skip_h1_title": false,
   "title_cell": "Table of Contents",
   "title_sidebar": "Contents",
   "toc_cell": true,
   "toc_position": {
    "height": "calc(100% - 180px)",
    "left": "10px",
    "top": "150px",
    "width": "307.2px"
   },
   "toc_section_display": true,
   "toc_window_display": true
  }
 },
 "nbformat": 4,
 "nbformat_minor": 5
}
